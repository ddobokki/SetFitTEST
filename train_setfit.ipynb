{
 "cells": [
  {
   "cell_type": "code",
   "execution_count": 1,
   "metadata": {},
   "outputs": [],
   "source": [
    "from datasets import load_dataset\n",
    "from sentence_transformers.losses import CosineSimilarityLoss\n",
    "\n",
    "from setfit import SetFitModel, SetFitTrainer"
   ]
  },
  {
   "cell_type": "code",
   "execution_count": 2,
   "metadata": {},
   "outputs": [
    {
     "name": "stderr",
     "output_type": "stream",
     "text": [
      "Using custom data configuration default\n",
      "Reusing dataset nsmc (/home/cleaning/.cache/huggingface/datasets/nsmc/default/1.1.0/bfd4729bf1a67114e5267e6916b9e4807010aeb238e4a3c2b95fbfa3a014b5f3)\n"
     ]
    },
    {
     "data": {
      "application/vnd.jupyter.widget-view+json": {
       "model_id": "184eb7750fce4ab889eb6d5a393b0b37",
       "version_major": 2,
       "version_minor": 0
      },
      "text/plain": [
       "  0%|          | 0/2 [00:00<?, ?it/s]"
      ]
     },
     "metadata": {},
     "output_type": "display_data"
    }
   ],
   "source": [
    "dataset = load_dataset(\"nsmc\")"
   ]
  },
  {
   "cell_type": "code",
   "execution_count": 3,
   "metadata": {},
   "outputs": [
    {
     "name": "stderr",
     "output_type": "stream",
     "text": [
      "Loading cached shuffled indices for dataset at /home/cleaning/.cache/huggingface/datasets/nsmc/default/1.1.0/bfd4729bf1a67114e5267e6916b9e4807010aeb238e4a3c2b95fbfa3a014b5f3/cache-dcd892fe1da31a64.arrow\n"
     ]
    }
   ],
   "source": [
    "num_classes = 2\n",
    "train_dataset = dataset[\"train\"].shuffle(seed=42).select(range(42 * num_classes))\n",
    "eval_dataset = dataset[\"test\"]"
   ]
  },
  {
   "cell_type": "code",
   "execution_count": 4,
   "metadata": {},
   "outputs": [
    {
     "data": {
      "text/plain": [
       "['For Carl.칼 세이건으로 시작해서 칼 세이건으로 끝난다.',\n",
       " '모든 면에서 너무 좋고, 특히 동양적이고',\n",
       " '달콤한 꿀과 톡쏘는 칠리의 만남',\n",
       " '토비 맥과이어가 그립다.',\n",
       " '전두엽절제술 ㅠㅠ 넘싫다',\n",
       " '재밌게보고있지만 점점식상해지는부분도없지않음',\n",
       " '전작의 명성에 똥칠하는 망작',\n",
       " '산으로 가는 스토리',\n",
       " '이것도영화라고ㅋㅋ',\n",
       " '프랑스 교도소 간수 죽여버리고 싶었다',\n",
       " '미이케 다케시 영화는 복불복임 ㅋㅋㅋ 개쩌는영화는 진짜 개쩌는데... 이건 영~~',\n",
       " '한쪽을 잃은 사람들은 현재와과거에서 상통하는걸 모르는 설탕가게(CJ)영화간부들',\n",
       " '유카와 센세~!!최고로 매력적인 캐릭터..후쿠야마 마사하루 말고 그누가 어울릴까..',\n",
       " '유사 소재 한국 영화 중 비교적 지루하고 임팩트 없음. 그나마 김윤석의 조연시절 보는 재미와 유지태의 깔끔한 연기를 보는 재미 정도 있음.',\n",
       " '진짜 재미있을 것 같은데, 부디 우라나라 애니메이션에 커다란 발전이 있기를.',\n",
       " '일본하고 독일을 엮지마라 적어도 일본은 나치스처럼 인종학살은 하지않았다.',\n",
       " '매주 수목을 기다리며 본방사수한 드라마 ..작가 배우 모두 훌륭합니다',\n",
       " '질질 끌면서 짜증맛 더 해가는 쓰레기 드라마작가야 언제 반전 보여 줄래이제 얼마 안 남았잖아',\n",
       " '잔잔하고 재미도 있어서 좋았다',\n",
       " '인생은 결국 섹스문제다',\n",
       " '클라이브 오웬, 모니카 벨루치 나오는 영화는 좀 지루함. 이것도 즐길만한 수준의 영화가 아님. 유치함.',\n",
       " '새로운 시도도 없으면서, 일관성도 없는, 잡스러운 영화!',\n",
       " '치킨집 사장들이 봐야하는영화 근데 넘 맛있는걸 우짜지..ㅠㅠ',\n",
       " '동생과의관계를 느끼게해주었음 교육적이며 재미까지갖춘 꽤괜찮은애니였음 살짝눈물도 .. .ㅎ',\n",
       " '팬티웃김ㅋㅋㅋㅋ 그런데 그런데....... 못생김 ㄱㅡ',\n",
       " '배우들의 연기는 나쁘지 않지만 급조된 저예산 무비의 한계랄까? 식상한 내용인데 군데군데 개연성 무너지는 씬들이 많다',\n",
       " '짝퉁의 말로 견자단 비스무리한 넘 델구와서 제작비 아끼려는 꼼수쓰다 망할 줄 몰랐더냐',\n",
       " '한 장면 하나하나 색감과 연출이 장난아니네요미장센이 살아있네~~',\n",
       " '결말도 흐지부지, 반전도없고, 몰입도도 떨어지고, 엉성한 전개로 시간 아까운 영화.',\n",
       " '출연자보고 10점 준 사람은 꼭 있을거다.',\n",
       " '아이들이 보면 신기해 할듯 .',\n",
       " '만화로는 안봐봤지만 재밌네요 대리설렘 ㅎ',\n",
       " '똥영화...다 정말이걸돈주고봤다니..',\n",
       " '이배우들을 가지고 이따위로 만들다니 원작 훼손이다.',\n",
       " '재미있게봤습니다. 아이들이랑 다같이가서 집중해서 보고나왔네요.',\n",
       " '절망을 희망으로 바꾸는 영화, 5명을 살리고 형과 모든 사람에ㅔㄱ 새힘을 불어넣은 루크를 영화를 통해 꼭 만나 보셔요',\n",
       " '정말재미없습니다 10점준사람들 도를아십니까??',\n",
       " '난 이 영화 내 베스트 리스트에 올렸음',\n",
       " '우리나라 사극 스릴러 중에서 베스트일정도로 지금봐도 재미있다.',\n",
       " '슬프다 ㅠㅠ',\n",
       " \"소피마르소가 성숙한만큼 성숙하지 못한 '라붐2'\",\n",
       " '재밋다~~',\n",
       " '드라마지만 평범하지 않은 드라마.',\n",
       " '아직도 기억에 남는 영화...ㅋ1999년에서야 티비로 본...ㅋ',\n",
       " '다시 봐도 10점이당',\n",
       " '타락하지 않은 영혼을 보는 느낌... 영화속이지만 복잡한 이 세상에서 잠시나마 맑아지는 것 같다!',\n",
       " '한국도 저럴 때가 있었죠. 그리고 지금 저걸 부활시키려는 이들이 있죠. 보는 내내 소름끼치는 건 우리 중 가운데 저 악귀가 될 이들이있기 때문입니다',\n",
       " '어떻게 하면 이런 영화가 나올까?',\n",
       " '별 내용없어 보이지만 흔히 우리주위에서 만날수 있는평범한 이야기를 흥미진',\n",
       " '끝까지 보긴 했는데, 스토리나 상황설정이 너무 급이 떨어집니다.',\n",
       " '나름 재미 있게 봤다. ㅎ',\n",
       " 'ㅋ',\n",
       " '나만그렇게생각하나? 너무 재미없어',\n",
       " '라붐에서 부녀지간으로 나왔는데 어케 이런역으로 재회할수 있지? 부부역으로 나오는것까진 이해해 근데 베드씬까지 서로 아빠같고 딸같이 느껴지지 않나보네',\n",
       " '재미있다 ㅋ',\n",
       " '동례가 의외로 연기잘해서 삼점준다',\n",
       " '핵심에 다가가지 못하고 겉돌기만 할 뿐',\n",
       " '이렇게 지루한 영화가 어떻게 8점대를 그리지;; 완전 어이없네',\n",
       " '잼엄음',\n",
       " '정말 오래된 영화지만 마리솔의 노래를 잊을수가 없는, 꼭 다시 보고싶은 영화',\n",
       " '<보보경심2> 정말 재미있네요~굿굿!',\n",
       " '좋아요 아이가 좋아했어요',\n",
       " '강공익 목소리!!!!',\n",
       " '트리오 재 출격 재미있음',\n",
       " '그간 본 이만 여 편의 영화 중 내가 준 최악의 평점.',\n",
       " '오 10점인거 첨봤당 저도 그 어릴때 본거 아직도 기억에남네요 >신고',\n",
       " '솔직히. 시청률이. 왜 낮았는지. 이해가 안간다 천년지애 이후 처음 본 성유리의 연기력은 180도 달라져있었다',\n",
       " '기존에 나오던 배우만 썻더라도 재밋게 봣을텐데 역할 하나도 안어울리고 전부다 연기력도 많이 떨어지는거 같다. 킬링타임용으로도 볼가치없는 영화 그냥 한마디로 망한영화',\n",
       " '한편의 잘만든 C급 포르노..',\n",
       " '이 때의 하정우가 제일 멋있었음.',\n",
       " '1빠다...(웃음)',\n",
       " '엑소시즘 영화는 엑소시스트랑 컨저링이 짱임. 나머진 쓰레기',\n",
       " '폭력을 바라보는 너무나 가벼운 시선',\n",
       " '와노래도좋고,줄거리도좋았던것같다!!!!!!!!',\n",
       " '이대로 억울할 순 없어!!',\n",
       " '반전도 그렇고 스릴이 넘치는 영화',\n",
       " '천추태후 주말이 기다려지네요~~',\n",
       " 'OOO기집단의 쓰레기부스러기들의 총집합,보면 졸라짜증나게 만드는 영화',\n",
       " '서양인이 동양(일본)에 대한 어설픈 환상만으로 영화를 만들면 이렇게 된다; 배경은일본 배우는 중국인 언어는 영어인 괴상한 영화;',\n",
       " '이장호는 테러리스트. 관객과의 전쟁을 선포한 영화판의 빈 라덴.',\n",
       " '참 오랜만에 깨닫는바가 많은 영화를 보았다. OST에서 느껴지는 종교적인 느낌은 그렇다칠만큼 좋은 작품이었다. 더불어 가해자 학생들은 또 왜 저렇게 살아가는지도 우리가 관심을 가져야 한다고 본다. 참 세상사는 것이 쉬운게 아니다.',\n",
       " '막 울 것 같은 프랑스어 보다는 차라리 한국어판이 나은듯',\n",
       " '이런,,,개..십이야~~~!!',\n",
       " '황당한 내용과 유치함의 극치..노래만좋다..ㅠㅠ']"
      ]
     },
     "execution_count": 4,
     "metadata": {},
     "output_type": "execute_result"
    }
   ],
   "source": [
    "train_dataset['document']"
   ]
  },
  {
   "cell_type": "code",
   "execution_count": 5,
   "metadata": {},
   "outputs": [
    {
     "name": "stderr",
     "output_type": "stream",
     "text": [
      "model_head.pkl not found on HuggingFace Hub, initialising classification head with random weights. You should TRAIN this model on a downstream task to use it for predictions and inference.\n"
     ]
    }
   ],
   "source": [
    "model = SetFitModel.from_pretrained(\"ddobokki/klue-roberta-base-nli-sts\")"
   ]
  },
  {
   "cell_type": "code",
   "execution_count": 6,
   "metadata": {},
   "outputs": [],
   "source": [
    "trainer = SetFitTrainer(\n",
    "    model=model,\n",
    "    train_dataset=train_dataset,\n",
    "    eval_dataset=eval_dataset,\n",
    "    loss_class=CosineSimilarityLoss,\n",
    "    metric=\"accuracy\",\n",
    "    batch_size=16,\n",
    "    num_iterations=20, # The number of text pairs to generate for contrastive learning\n",
    "    num_epochs=1, # The number of epochs to use for constrastive learning\n",
    "    column_mapping={'document': 'text', \"label\": \"label\"} # Map dataset columns to text/label expected by trainer\n",
    ")\n"
   ]
  },
  {
   "cell_type": "code",
   "execution_count": 7,
   "metadata": {},
   "outputs": [
    {
     "name": "stderr",
     "output_type": "stream",
     "text": [
      "Applying column mapping to training dataset\n",
      "***** Running training *****\n",
      "  Num examples = 3360\n",
      "  Num epochs = 1\n",
      "  Total optimization steps = 210\n",
      "  Total train batch size = 16\n"
     ]
    },
    {
     "data": {
      "application/vnd.jupyter.widget-view+json": {
       "model_id": "b6ab6586c586402799766b55fb7afcfa",
       "version_major": 2,
       "version_minor": 0
      },
      "text/plain": [
       "Epoch:   0%|          | 0/1 [00:00<?, ?it/s]"
      ]
     },
     "metadata": {},
     "output_type": "display_data"
    },
    {
     "data": {
      "application/vnd.jupyter.widget-view+json": {
       "model_id": "a07b2a99bb224d31bec6bfc0d39d3a1c",
       "version_major": 2,
       "version_minor": 0
      },
      "text/plain": [
       "Iteration:   0%|          | 0/210 [00:00<?, ?it/s]"
      ]
     },
     "metadata": {},
     "output_type": "display_data"
    },
    {
     "name": "stderr",
     "output_type": "stream",
     "text": [
      "Applying column mapping to evaluation dataset\n",
      "***** Running evaluation *****\n"
     ]
    }
   ],
   "source": [
    "trainer.train()\n",
    "metrics = trainer.evaluate()"
   ]
  },
  {
   "cell_type": "code",
   "execution_count": 8,
   "metadata": {},
   "outputs": [],
   "source": [
    "import random\n"
   ]
  },
  {
   "cell_type": "code",
   "execution_count": 10,
   "metadata": {},
   "outputs": [
    {
     "data": {
      "text/plain": [
       "{'accuracy': 0.80988}"
      ]
     },
     "execution_count": 10,
     "metadata": {},
     "output_type": "execute_result"
    }
   ],
   "source": [
    "metrics"
   ]
  },
  {
   "cell_type": "code",
   "execution_count": 11,
   "metadata": {},
   "outputs": [],
   "source": [
    "from sklearn.metrics.pairwise import cosine_distances"
   ]
  },
  {
   "cell_type": "code",
   "execution_count": 12,
   "metadata": {},
   "outputs": [],
   "source": [
    "def get_sim(vec1,vec2):\n",
    "    return 1-cosine_distances(vec1,vec2)"
   ]
  },
  {
   "cell_type": "code",
   "execution_count": 19,
   "metadata": {},
   "outputs": [
    {
     "name": "stdout",
     "output_type": "stream",
     "text": [
      "text1 :첨으로 평점이라는걸 남겨본다 . 이런 쓰렉이는 처음 본다 진짜 욕나오네 - label:0\n",
      "text2 :라오스 3번 다녀왔어요....어제 9회보니 방비엥의 낯익은정겨운 곳들이 다시 눈에 들어오니 마음이 울컥허더군요 ㅎㅎ꽃보다 시리즈 전편 열심히 애청하고 있습니다제작진과 출연자 여러분들 항상 건강하시고 좋은 방송 부탁드려요 - label:1\n",
      "is same: False\n",
      "similarity: [[0.21515155]]\n"
     ]
    }
   ],
   "source": [
    "idx1 = random.randint(0,len(eval_dataset))\n",
    "idx2 = random.randint(0,len(eval_dataset))\n",
    "text1 =eval_dataset[idx1]['document']\n",
    "text2 =eval_dataset[idx2]['document']\n",
    "label1 =eval_dataset[idx1]['label']\n",
    "label2 =eval_dataset[idx2]['label']\n",
    "print(f\"text1 :{text1} - label:{label1}\")\n",
    "print(f\"text2 :{text2} - label:{label2}\")\n",
    "print(f'is same: {label1 == label2}')\n",
    "\n",
    "vec1 = model.model_body.encode([text1])\n",
    "vec2 = model.model_body.encode([text2])\n",
    "\n",
    "print(f'similarity: {get_sim(vec1,vec2)}')"
   ]
  },
  {
   "cell_type": "code",
   "execution_count": null,
   "metadata": {},
   "outputs": [],
   "source": []
  }
 ],
 "metadata": {
  "kernelspec": {
   "display_name": "Python 3.8.0 ('.venv': venv)",
   "language": "python",
   "name": "python3"
  },
  "language_info": {
   "codemirror_mode": {
    "name": "ipython",
    "version": 3
   },
   "file_extension": ".py",
   "mimetype": "text/x-python",
   "name": "python",
   "nbconvert_exporter": "python",
   "pygments_lexer": "ipython3",
   "version": "3.8.0"
  },
  "orig_nbformat": 4,
  "vscode": {
   "interpreter": {
    "hash": "ffa222951205587f61fff818c61b88cfd548143959c5d21917d47df58954e7f5"
   }
  }
 },
 "nbformat": 4,
 "nbformat_minor": 2
}
